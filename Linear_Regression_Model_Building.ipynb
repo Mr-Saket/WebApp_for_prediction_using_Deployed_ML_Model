{
 "cells": [
  {
   "cell_type": "code",
   "execution_count": 1,
   "metadata": {},
   "outputs": [],
   "source": [
    "import pandas as pd\n",
    "import numpy as np\n",
    "import matplotlib.pyplot as plt\n",
    "from sklearn.linear_model import LinearRegression\n",
    "from sklearn.model_selection import train_test_split\n",
    "import pickle"
   ]
  },
  {
   "cell_type": "code",
   "execution_count": 2,
   "metadata": {},
   "outputs": [
    {
     "name": "stdout",
     "output_type": "stream",
     "text": [
      "   Id  Height  Weight\n",
      "0   1     121      21\n",
      "1   2     122      22\n",
      "2   3     123      23\n",
      "3   4     124      24\n",
      "4   5     125      25\n",
      "    Id  Height  Weight\n",
      "45  46     166      66\n",
      "46  47     167      67\n",
      "47  48     168      68\n",
      "48  49     169      69\n",
      "49  50     170      70\n"
     ]
    }
   ],
   "source": [
    "input_df = pd.read_csv(\"Input_data.csv\")\n",
    "\n",
    "print(input_df.head())\n",
    "print(input_df.tail())"
   ]
  },
  {
   "cell_type": "code",
   "execution_count": 3,
   "metadata": {},
   "outputs": [
    {
     "name": "stdout",
     "output_type": "stream",
     "text": [
      "(33, 1)\n",
      "(17, 1)\n",
      "(33,)\n",
      "(17,)\n",
      "    Id  Predicted Value  Actual Value\n",
      "3    4             24.0            24\n",
      "4    5             25.0            25\n",
      "6    7             27.0            27\n",
      "8    9             29.0            29\n",
      "12  13             33.0            33\n",
      "13  14             34.0            34\n",
      "17  18             38.0            38\n",
      "19  20             40.0            40\n",
      "25  26             46.0            46\n",
      "26  27             47.0            47\n",
      "30  31             51.0            51\n",
      "32  33             53.0            53\n",
      "37  38             58.0            58\n",
      "39  40             60.0            60\n",
      "41  42             62.0            62\n",
      "45  46             66.0            66\n",
      "48  49             69.0            69\n"
     ]
    },
    {
     "data": {
      "image/png": "[encoded data removed]",
      "text/plain": [
       "<Figure size 432x288 with 1 Axes>"
      ]
     },
     "metadata": {
      "needs_background": "light"
     },
     "output_type": "display_data"
    },
    {
     "name": "stdout",
     "output_type": "stream",
     "text": [
      "Coefficients:  [1.]\n",
      "Variance score: 1.0\n"
     ]
    }
   ],
   "source": [
    "id_numbers = input_df['Id']\n",
    "input_df = input_df.drop('Id',axis=1)\n",
    "\n",
    "y = input_df['Weight']\n",
    "input_df = input_df.drop('Weight',axis=1)\n",
    "\n",
    "X_train, X_test, y_train, y_test = train_test_split(input_df, y, test_size=0.33, random_state=42)\n",
    "\n",
    "print(X_train.shape)\n",
    "print(X_test.shape)\n",
    "print(y_train.shape)\n",
    "print(y_test.shape)\n",
    "\n",
    "lr = LinearRegression()\n",
    "\n",
    "lr.fit(X_train, y_train)\n",
    "y_pred = lr.predict(X_test)\n",
    "\n",
    "res = y_test.to_frame('Actual Value')\n",
    "res.insert(0, 'Predicted Value', y_pred)\n",
    "res = id_numbers.to_frame().join(res, how='inner')\n",
    "print(res)\n",
    "\n",
    "plt.scatter(X_test, y_test)\n",
    "plt.plot(X_test, y_pred, color='red')\n",
    "plt.show()\n",
    "\n",
    "# regression coefficients\n",
    "print('Coefficients: ', lr.coef_)\n",
    "  \n",
    "# variance score: 1 means perfect prediction\n",
    "print('Variance score: {}'.format(lr.score(X_test, y_test)))"
   ]
  },
  {
   "cell_type": "code",
   "execution_count": 6,
   "metadata": {},
   "outputs": [
    {
     "data": {
      "text/plain": [
       "array([80.])"
      ]
     },
     "execution_count": 6,
     "metadata": {},
     "output_type": "execute_result"
    }
   ],
   "source": [
    "test = [[180]]\n",
    "lr.predict(test)"
   ]
  },
  {
   "cell_type": "code",
   "execution_count": 10,
   "metadata": {},
   "outputs": [],
   "source": [
    "# save the model to disk\n",
    "filename = 'Linear_Regression_model.sav'\n",
    "pickle.dump(lr, open(filename, 'wb'))"
   ]
  },
  {
   "cell_type": "code",
   "execution_count": 11,
   "metadata": {},
   "outputs": [
    {
     "name": "stdout",
     "output_type": "stream",
     "text": [
      "[80.]\n"
     ]
    }
   ],
   "source": [
    "# load the model from disk\n",
    "loaded_model = pickle.load(open(filename, 'rb'))\n",
    "result = loaded_model.predict(test)\n",
    "# result = loaded_model.score(X_test, Y_test)\n",
    "print(result)"
   ]
  },
  {
   "cell_type": "code",
   "execution_count": 12,
   "metadata": {},
   "outputs": [
    {
     "data": {
      "text/plain": [
       "array([70.])"
      ]
     },
     "execution_count": 12,
     "metadata": {},
     "output_type": "execute_result"
    }
   ],
   "source": [
    "from sklearn.tree import DecisionTreeRegressor\n",
    "dt = DecisionTreeRegressor(random_state = 0) \n",
    "dt.fit(X_train, y_train)\n",
    "dt.predict(test)"
   ]
  },
  {
   "cell_type": "code",
   "execution_count": 13,
   "metadata": {},
   "outputs": [],
   "source": [
    "# save the model to disk\n",
    "filename = 'Decision_Tree_model.sav'\n",
    "pickle.dump(dt, open(filename, 'wb'))"
   ]
  },
  {
   "cell_type": "code",
   "execution_count": 14,
   "metadata": {},
   "outputs": [
    {
     "name": "stdout",
     "output_type": "stream",
     "text": [
      "[70.]\n"
     ]
    }
   ],
   "source": [
    "# load the model from disk\n",
    "loaded_model = pickle.load(open(filename, 'rb'))\n",
    "result = loaded_model.predict(test)\n",
    "# result = loaded_model.score(X_test, Y_test)\n",
    "print(result)"
   ]
  },
  {
   "cell_type": "code",
   "execution_count": 15,
   "metadata": {},
   "outputs": [
    {
     "name": "stdout",
     "output_type": "stream",
     "text": [
      "[90.]\n",
      "[70.]\n"
     ]
    }
   ],
   "source": [
    "test = [[190]]\n",
    "print(lr.predict(test))\n",
    "print(dt.predict(test))"
   ]
  },
  {
   "cell_type": "code",
   "execution_count": null,
   "metadata": {},
   "outputs": [],
   "source": []
  }
 ],
 "metadata": {
  "kernelspec": {
   "display_name": "Python 3",
   "language": "python",
   "name": "python3"
  },
  "language_info": {
   "codemirror_mode": {
    "name": "ipython",
    "version": 3
   },
   "file_extension": ".py",
   "mimetype": "text/x-python",
   "name": "python",
   "nbconvert_exporter": "python",
   "pygments_lexer": "ipython3",
   "version": "3.7.6"
  }
 },
 "nbformat": 4,
 "nbformat_minor": 4
}
